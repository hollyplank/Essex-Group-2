{
  "nbformat": 4,
  "nbformat_minor": 0,
  "metadata": {
    "colab": {
      "name": "Final Titanic.ipynb",
      "provenance": [],
      "collapsed_sections": [],
      "authorship_tag": "ABX9TyNOyy2v2QewYru61kV+/9y7",
      "include_colab_link": true
    },
    "kernelspec": {
      "name": "python3",
      "display_name": "Python 3"
    }
  },
  "cells": [
    {
      "cell_type": "markdown",
      "metadata": {
        "id": "view-in-github",
        "colab_type": "text"
      },
      "source": [
        "<a href=\"https://colab.research.google.com/github/hollyplank/Essex-Group-2/blob/main/Titanic.ipynb\" target=\"_parent\"><img src=\"https://colab.research.google.com/assets/colab-badge.svg\" alt=\"Open In Colab\"/></a>"
      ]
    },
    {
      "cell_type": "code",
      "metadata": {
        "id": "ToCOFPqILvIX"
      },
      "source": [
        "#Data Analysis Libraries\n",
        "import pandas as pd\n",
        "import numpy as np"
      ],
      "execution_count": 58,
      "outputs": []
    },
    {
      "cell_type": "code",
      "metadata": {
        "id": "WJw-QBDvMJd2"
      },
      "source": [
        "#Data Plotting Libraries\n",
        "import matplotlib.pyplot as plt\n",
        "import seaborn as sns"
      ],
      "execution_count": 59,
      "outputs": []
    },
    {
      "cell_type": "code",
      "metadata": {
        "id": "-OFq4mkep03f"
      },
      "source": [
        "#imports for machine learning\n",
        "import sklearn\n",
        "from sklearn.ensemble import RandomForestClassifier"
      ],
      "execution_count": 60,
      "outputs": []
    },
    {
      "cell_type": "code",
      "metadata": {
        "id": "kXN8szaDaQQF",
        "colab": {
          "base_uri": "https://localhost:8080/"
        },
        "outputId": "ccc1419e-caac-428c-c91b-92ae37105eaf"
      },
      "source": [
        "#Puts files from github into colab \n",
        "! git clone https://github.com/hollyplank/Essex-Group-2.git"
      ],
      "execution_count": 61,
      "outputs": [
        {
          "output_type": "stream",
          "text": [
            "fatal: destination path 'Essex-Group-2' already exists and is not an empty directory.\n"
          ],
          "name": "stdout"
        }
      ]
    },
    {
      "cell_type": "code",
      "metadata": {
        "id": "QfPBQOPiMOsw"
      },
      "source": [
        "#Reading files from the github page  \n",
        "train = pd.read_csv('Essex-Group-2/train.csv')\n",
        "test = pd.read_csv('Essex-Group-2/test.csv')"
      ],
      "execution_count": 62,
      "outputs": []
    },
    {
      "cell_type": "code",
      "metadata": {
        "colab": {
          "base_uri": "https://localhost:8080/"
        },
        "id": "rT14Lj0hM2EW",
        "outputId": "eb609b3d-3524-44b4-cfeb-51837f924d44"
      },
      "source": [
        "#Printing to ensure that files have been correctly accessed \n",
        "print(train)\n",
        "print(test)"
      ],
      "execution_count": 63,
      "outputs": [
        {
          "output_type": "stream",
          "text": [
            "     PassengerId  Survived  Pclass  ...     Fare Cabin  Embarked\n",
            "0              1         0       3  ...   7.2500   NaN         S\n",
            "1              2         1       1  ...  71.2833   C85         C\n",
            "2              3         1       3  ...   7.9250   NaN         S\n",
            "3              4         1       1  ...  53.1000  C123         S\n",
            "4              5         0       3  ...   8.0500   NaN         S\n",
            "..           ...       ...     ...  ...      ...   ...       ...\n",
            "886          887         0       2  ...  13.0000   NaN         S\n",
            "887          888         1       1  ...  30.0000   B42         S\n",
            "888          889         0       3  ...  23.4500   NaN         S\n",
            "889          890         1       1  ...  30.0000  C148         C\n",
            "890          891         0       3  ...   7.7500   NaN         Q\n",
            "\n",
            "[891 rows x 12 columns]\n",
            "     PassengerId  Pclass  ... Cabin Embarked\n",
            "0            892       3  ...   NaN        Q\n",
            "1            893       3  ...   NaN        S\n",
            "2            894       2  ...   NaN        Q\n",
            "3            895       3  ...   NaN        S\n",
            "4            896       3  ...   NaN        S\n",
            "..           ...     ...  ...   ...      ...\n",
            "413         1305       3  ...   NaN        S\n",
            "414         1306       1  ...  C105        C\n",
            "415         1307       3  ...   NaN        S\n",
            "416         1308       3  ...   NaN        S\n",
            "417         1309       3  ...   NaN        C\n",
            "\n",
            "[418 rows x 11 columns]\n"
          ],
          "name": "stdout"
        }
      ]
    },
    {
      "cell_type": "code",
      "metadata": {
        "colab": {
          "base_uri": "https://localhost:8080/"
        },
        "id": "0ekPHkEyNyxf",
        "outputId": "8452a787-8e37-46bd-cf33-b2201ad73029"
      },
      "source": [
        "#Printing To See What Column Variables Exist &  What data type they are\n",
        "print(train.info())"
      ],
      "execution_count": 64,
      "outputs": [
        {
          "output_type": "stream",
          "text": [
            "<class 'pandas.core.frame.DataFrame'>\n",
            "RangeIndex: 891 entries, 0 to 890\n",
            "Data columns (total 12 columns):\n",
            " #   Column       Non-Null Count  Dtype  \n",
            "---  ------       --------------  -----  \n",
            " 0   PassengerId  891 non-null    int64  \n",
            " 1   Survived     891 non-null    int64  \n",
            " 2   Pclass       891 non-null    int64  \n",
            " 3   Name         891 non-null    object \n",
            " 4   Sex          891 non-null    object \n",
            " 5   Age          714 non-null    float64\n",
            " 6   SibSp        891 non-null    int64  \n",
            " 7   Parch        891 non-null    int64  \n",
            " 8   Ticket       891 non-null    object \n",
            " 9   Fare         891 non-null    float64\n",
            " 10  Cabin        204 non-null    object \n",
            " 11  Embarked     889 non-null    object \n",
            "dtypes: float64(2), int64(5), object(5)\n",
            "memory usage: 83.7+ KB\n",
            "None\n"
          ],
          "name": "stdout"
        }
      ]
    },
    {
      "cell_type": "code",
      "metadata": {
        "id": "HCa2lpg6OEMx"
      },
      "source": [
        "# This generates a table containing the number of missing entries of each catogrie in the data\n",
        "def nulldata(df):\n",
        "  nulls = df.isnull().sum().sort_values(ascending = False)\n",
        "  total = round(((nulls - nulls) + len(df)), 2)\n",
        "  return pd.concat([nulls, total], axis = 1, keys = ['No. Values Missing', 'Out Of'])"
      ],
      "execution_count": 65,
      "outputs": []
    },
    {
      "cell_type": "code",
      "metadata": {
        "colab": {
          "base_uri": "https://localhost:8080/",
          "height": 421
        },
        "id": "Vg26dKIsOWli",
        "outputId": "78f45a2e-51ff-422a-f02a-6aafda9cfd84"
      },
      "source": [
        "# This shows to the user a table giving the total number of missing values for each category\n",
        "nulldata(train)"
      ],
      "execution_count": 66,
      "outputs": [
        {
          "output_type": "execute_result",
          "data": {
            "text/html": [
              "<div>\n",
              "<style scoped>\n",
              "    .dataframe tbody tr th:only-of-type {\n",
              "        vertical-align: middle;\n",
              "    }\n",
              "\n",
              "    .dataframe tbody tr th {\n",
              "        vertical-align: top;\n",
              "    }\n",
              "\n",
              "    .dataframe thead th {\n",
              "        text-align: right;\n",
              "    }\n",
              "</style>\n",
              "<table border=\"1\" class=\"dataframe\">\n",
              "  <thead>\n",
              "    <tr style=\"text-align: right;\">\n",
              "      <th></th>\n",
              "      <th>No. Values Missing</th>\n",
              "      <th>Out Of</th>\n",
              "    </tr>\n",
              "  </thead>\n",
              "  <tbody>\n",
              "    <tr>\n",
              "      <th>Cabin</th>\n",
              "      <td>687</td>\n",
              "      <td>891</td>\n",
              "    </tr>\n",
              "    <tr>\n",
              "      <th>Age</th>\n",
              "      <td>177</td>\n",
              "      <td>891</td>\n",
              "    </tr>\n",
              "    <tr>\n",
              "      <th>Embarked</th>\n",
              "      <td>2</td>\n",
              "      <td>891</td>\n",
              "    </tr>\n",
              "    <tr>\n",
              "      <th>Fare</th>\n",
              "      <td>0</td>\n",
              "      <td>891</td>\n",
              "    </tr>\n",
              "    <tr>\n",
              "      <th>Ticket</th>\n",
              "      <td>0</td>\n",
              "      <td>891</td>\n",
              "    </tr>\n",
              "    <tr>\n",
              "      <th>Parch</th>\n",
              "      <td>0</td>\n",
              "      <td>891</td>\n",
              "    </tr>\n",
              "    <tr>\n",
              "      <th>SibSp</th>\n",
              "      <td>0</td>\n",
              "      <td>891</td>\n",
              "    </tr>\n",
              "    <tr>\n",
              "      <th>Sex</th>\n",
              "      <td>0</td>\n",
              "      <td>891</td>\n",
              "    </tr>\n",
              "    <tr>\n",
              "      <th>Name</th>\n",
              "      <td>0</td>\n",
              "      <td>891</td>\n",
              "    </tr>\n",
              "    <tr>\n",
              "      <th>Pclass</th>\n",
              "      <td>0</td>\n",
              "      <td>891</td>\n",
              "    </tr>\n",
              "    <tr>\n",
              "      <th>Survived</th>\n",
              "      <td>0</td>\n",
              "      <td>891</td>\n",
              "    </tr>\n",
              "    <tr>\n",
              "      <th>PassengerId</th>\n",
              "      <td>0</td>\n",
              "      <td>891</td>\n",
              "    </tr>\n",
              "  </tbody>\n",
              "</table>\n",
              "</div>"
            ],
            "text/plain": [
              "             No. Values Missing  Out Of\n",
              "Cabin                       687     891\n",
              "Age                         177     891\n",
              "Embarked                      2     891\n",
              "Fare                          0     891\n",
              "Ticket                        0     891\n",
              "Parch                         0     891\n",
              "SibSp                         0     891\n",
              "Sex                           0     891\n",
              "Name                          0     891\n",
              "Pclass                        0     891\n",
              "Survived                      0     891\n",
              "PassengerId                   0     891"
            ]
          },
          "metadata": {
            "tags": []
          },
          "execution_count": 66
        }
      ]
    },
    {
      "cell_type": "code",
      "metadata": {
        "id": "K1gvo5XrP1D2",
        "colab": {
          "base_uri": "https://localhost:8080/",
          "height": 390
        },
        "outputId": "4989c3ce-e657-48b8-b857-da683308c122"
      },
      "source": [
        "# This shows to the user a table giving the total number of missing values for each category\n",
        "nulldata(test)"
      ],
      "execution_count": 67,
      "outputs": [
        {
          "output_type": "execute_result",
          "data": {
            "text/html": [
              "<div>\n",
              "<style scoped>\n",
              "    .dataframe tbody tr th:only-of-type {\n",
              "        vertical-align: middle;\n",
              "    }\n",
              "\n",
              "    .dataframe tbody tr th {\n",
              "        vertical-align: top;\n",
              "    }\n",
              "\n",
              "    .dataframe thead th {\n",
              "        text-align: right;\n",
              "    }\n",
              "</style>\n",
              "<table border=\"1\" class=\"dataframe\">\n",
              "  <thead>\n",
              "    <tr style=\"text-align: right;\">\n",
              "      <th></th>\n",
              "      <th>No. Values Missing</th>\n",
              "      <th>Out Of</th>\n",
              "    </tr>\n",
              "  </thead>\n",
              "  <tbody>\n",
              "    <tr>\n",
              "      <th>Cabin</th>\n",
              "      <td>327</td>\n",
              "      <td>418</td>\n",
              "    </tr>\n",
              "    <tr>\n",
              "      <th>Age</th>\n",
              "      <td>86</td>\n",
              "      <td>418</td>\n",
              "    </tr>\n",
              "    <tr>\n",
              "      <th>Fare</th>\n",
              "      <td>1</td>\n",
              "      <td>418</td>\n",
              "    </tr>\n",
              "    <tr>\n",
              "      <th>Embarked</th>\n",
              "      <td>0</td>\n",
              "      <td>418</td>\n",
              "    </tr>\n",
              "    <tr>\n",
              "      <th>Ticket</th>\n",
              "      <td>0</td>\n",
              "      <td>418</td>\n",
              "    </tr>\n",
              "    <tr>\n",
              "      <th>Parch</th>\n",
              "      <td>0</td>\n",
              "      <td>418</td>\n",
              "    </tr>\n",
              "    <tr>\n",
              "      <th>SibSp</th>\n",
              "      <td>0</td>\n",
              "      <td>418</td>\n",
              "    </tr>\n",
              "    <tr>\n",
              "      <th>Sex</th>\n",
              "      <td>0</td>\n",
              "      <td>418</td>\n",
              "    </tr>\n",
              "    <tr>\n",
              "      <th>Name</th>\n",
              "      <td>0</td>\n",
              "      <td>418</td>\n",
              "    </tr>\n",
              "    <tr>\n",
              "      <th>Pclass</th>\n",
              "      <td>0</td>\n",
              "      <td>418</td>\n",
              "    </tr>\n",
              "    <tr>\n",
              "      <th>PassengerId</th>\n",
              "      <td>0</td>\n",
              "      <td>418</td>\n",
              "    </tr>\n",
              "  </tbody>\n",
              "</table>\n",
              "</div>"
            ],
            "text/plain": [
              "             No. Values Missing  Out Of\n",
              "Cabin                       327     418\n",
              "Age                          86     418\n",
              "Fare                          1     418\n",
              "Embarked                      0     418\n",
              "Ticket                        0     418\n",
              "Parch                         0     418\n",
              "SibSp                         0     418\n",
              "Sex                           0     418\n",
              "Name                          0     418\n",
              "Pclass                        0     418\n",
              "PassengerId                   0     418"
            ]
          },
          "metadata": {
            "tags": []
          },
          "execution_count": 67
        }
      ]
    },
    {
      "cell_type": "markdown",
      "metadata": {
        "id": "0HxXFx2-QbmP"
      },
      "source": [
        "Using both tables to check for nulls we could see and accuratly assess what needed to be changed or added into the set to give the model more data to use and potentially also what data we should abandon due to so much missing information. "
      ]
    },
    {
      "cell_type": "code",
      "metadata": {
        "colab": {
          "base_uri": "https://localhost:8080/",
          "height": 296
        },
        "id": "uJ0hqz2WZX-e",
        "outputId": "722d2082-0936-4bf0-f9c9-28b355e2e25f"
      },
      "source": [
        "#This creates a box plot which give average ages to each sex so for men it is roughly just before their 30's and for women it is around their mid 20's\n",
        "sns.set_style(\"ticks\")\n",
        "sns.boxplot(x = 'Sex', y = 'Age', palette=\"YlOrBr\", data=train)"
      ],
      "execution_count": 68,
      "outputs": [
        {
          "output_type": "execute_result",
          "data": {
            "text/plain": [
              "<matplotlib.axes._subplots.AxesSubplot at 0x7fc6361b0e50>"
            ]
          },
          "metadata": {
            "tags": []
          },
          "execution_count": 68
        },
        {
          "output_type": "display_data",
          "data": {
            "image/png": "[encoded data removed]",
            "text/plain": [
              "<Figure size 432x288 with 1 Axes>"
            ]
          },
          "metadata": {
            "tags": []
          }
        }
      ]
    },
    {
      "cell_type": "code",
      "metadata": {
        "colab": {
          "base_uri": "https://localhost:8080/",
          "height": 296
        },
        "id": "ENO2GCBHvKeN",
        "outputId": "f66c9402-721e-45fc-b88d-dfe3792e8496"
      },
      "source": [
        "#This creates a box plot showing the average ages for peoples class \n",
        "sns.boxplot(x = 'Pclass', y = 'Age', palette=\"YlOrBr\", data=train)"
      ],
      "execution_count": 69,
      "outputs": [
        {
          "output_type": "execute_result",
          "data": {
            "text/plain": [
              "<matplotlib.axes._subplots.AxesSubplot at 0x7fc636080d90>"
            ]
          },
          "metadata": {
            "tags": []
          },
          "execution_count": 69
        },
        {
          "output_type": "display_data",
          "data": {
            "image/png": "[encoded data removed]",
            "text/plain": [
              "<Figure size 432x288 with 1 Axes>"
            ]
          },
          "metadata": {
            "tags": []
          }
        }
      ]
    },
    {
      "cell_type": "code",
      "metadata": {
        "colab": {
          "base_uri": "https://localhost:8080/",
          "height": 296
        },
        "id": "s5k-FvBx2Eb8",
        "outputId": "2045d5dc-398f-4bdc-c05c-96bcb3f9dfc4"
      },
      "source": [
        "#This creates a box plot showing the average ages for peoples class but this time in the test data so it can be used and compared later to fill in the gaps for Age. \n",
        "sns.boxplot(x = 'Pclass', y = 'Age', palette=\"YlOrBr\", data=test)"
      ],
      "execution_count": 70,
      "outputs": [
        {
          "output_type": "execute_result",
          "data": {
            "text/plain": [
              "<matplotlib.axes._subplots.AxesSubplot at 0x7fc6360236d0>"
            ]
          },
          "metadata": {
            "tags": []
          },
          "execution_count": 70
        },
        {
          "output_type": "display_data",
          "data": {
            "image/png": "[encoded data removed]",
            "text/plain": [
              "<Figure size 432x288 with 1 Axes>"
            ]
          },
          "metadata": {
            "tags": []
          }
        }
      ]
    },
    {
      "cell_type": "code",
      "metadata": {
        "colab": {
          "base_uri": "https://localhost:8080/",
          "height": 296
        },
        "id": "5BrcFxSOs3xg",
        "outputId": "214cbf05-8979-4428-d7a1-a1a6828b74fe"
      },
      "source": [
        "#This shows number of men and women who did or did not survive which actually shows us you were a lot more likely to die if you were male \n",
        "sns.set_style('whitegrid')\n",
        "sns.countplot(x = 'Sex', hue = 'Survived', palette=\"YlOrBr\", data = train)"
      ],
      "execution_count": 71,
      "outputs": [
        {
          "output_type": "execute_result",
          "data": {
            "text/plain": [
              "<matplotlib.axes._subplots.AxesSubplot at 0x7fc635fb14d0>"
            ]
          },
          "metadata": {
            "tags": []
          },
          "execution_count": 71
        },
        {
          "output_type": "display_data",
          "data": {
            "image/png": "[encoded data removed]",
            "text/plain": [
              "<Figure size 432x288 with 1 Axes>"
            ]
          },
          "metadata": {
            "tags": []
          }
        }
      ]
    },
    {
      "cell_type": "code",
      "metadata": {
        "colab": {
          "base_uri": "https://localhost:8080/",
          "height": 296
        },
        "id": "mFPNl-WStjYq",
        "outputId": "fa96f75d-6cda-4f21-8057-185604e91bb2"
      },
      "source": [
        "#This shows based on peoples class if they survived or not.\n",
        "sns.set_style('whitegrid')\n",
        "sns.countplot(x = 'Survived', hue = \"Pclass\", palette=\"Greens\", data = train)"
      ],
      "execution_count": 72,
      "outputs": [
        {
          "output_type": "execute_result",
          "data": {
            "text/plain": [
              "<matplotlib.axes._subplots.AxesSubplot at 0x7fc635f2f590>"
            ]
          },
          "metadata": {
            "tags": []
          },
          "execution_count": 72
        },
        {
          "output_type": "display_data",
          "data": {
            "image/png": "[encoded data removed]",
            "text/plain": [
              "<Figure size 432x288 with 1 Axes>"
            ]
          },
          "metadata": {
            "tags": []
          }
        }
      ]
    },
    {
      "cell_type": "code",
      "metadata": {
        "colab": {
          "base_uri": "https://localhost:8080/",
          "height": 296
        },
        "id": "LSAN97rAt1vx",
        "outputId": "ade65d67-2db2-453e-9521-578984000cde"
      },
      "source": [
        "#This creates a graph showing how many people from each port survived, so from this we can tell that people from the S labelled port were much more likely to survive the titanic\n",
        "sns.set_style('whitegrid')\n",
        "sns.countplot(x = 'Embarked', hue = \"Survived\", palette=\"YlOrBr\", data = train)"
      ],
      "execution_count": 73,
      "outputs": [
        {
          "output_type": "execute_result",
          "data": {
            "text/plain": [
              "<matplotlib.axes._subplots.AxesSubplot at 0x7fc635ea3ad0>"
            ]
          },
          "metadata": {
            "tags": []
          },
          "execution_count": 73
        },
        {
          "output_type": "display_data",
          "data": {
            "image/png": "[encoded data removed]",
            "text/plain": [
              "<Figure size 432x288 with 1 Axes>"
            ]
          },
          "metadata": {
            "tags": []
          }
        }
      ]
    },
    {
      "cell_type": "code",
      "metadata": {
        "colab": {
          "base_uri": "https://localhost:8080/",
          "height": 296
        },
        "id": "HeBSDAR96Xk8",
        "outputId": "6db501a3-6082-4914-8e6e-784c6bca3690"
      },
      "source": [
        "#This shows how many men and women belonged to each class. \n",
        "sns.set_style('whitegrid')\n",
        "sns.countplot(x = 'Sex', hue = \"Pclass\",palette=\"Greens\", data = train)"
      ],
      "execution_count": 74,
      "outputs": [
        {
          "output_type": "execute_result",
          "data": {
            "text/plain": [
              "<matplotlib.axes._subplots.AxesSubplot at 0x7fc635e1fa50>"
            ]
          },
          "metadata": {
            "tags": []
          },
          "execution_count": 74
        },
        {
          "output_type": "display_data",
          "data": {
            "image/png": "[encoded data removed]",
            "text/plain": [
              "<Figure size 432x288 with 1 Axes>"
            ]
          },
          "metadata": {
            "tags": []
          }
        }
      ]
    },
    {
      "cell_type": "code",
      "metadata": {
        "id": "QnD4LzDzNnGm",
        "outputId": "db603cf1-158d-4939-f1d5-d2c6e7f25b8b",
        "colab": {
          "base_uri": "https://localhost:8080/",
          "height": 296
        }
      },
      "source": [
        "#This shows a chart that displays the number of people who survived and how many parents or children they had\n",
        "sns.set_style('whitegrid')\n",
        "sns.countplot(x = 'Survived', hue = \"Parch\",palette=\"Blues\", data = train)"
      ],
      "execution_count": 75,
      "outputs": [
        {
          "output_type": "execute_result",
          "data": {
            "text/plain": [
              "<matplotlib.axes._subplots.AxesSubplot at 0x7fc635de7a50>"
            ]
          },
          "metadata": {
            "tags": []
          },
          "execution_count": 75
        },
        {
          "output_type": "display_data",
          "data": {
            "image/png": "[encoded data removed]",
            "text/plain": [
              "<Figure size 432x288 with 1 Axes>"
            ]
          },
          "metadata": {
            "tags": []
          }
        }
      ]
    },
    {
      "cell_type": "code",
      "metadata": {
        "id": "73NH36J7OT_W",
        "outputId": "fb092821-4dc2-420b-9084-ca0804db97d9",
        "colab": {
          "base_uri": "https://localhost:8080/",
          "height": 296
        }
      },
      "source": [
        "#This chart shows the distribution of men and women departing from different locations\n",
        "sns.set_style('whitegrid')\n",
        "sns.countplot(x = 'Sex', hue = \"Embarked\",palette=\"Blues\", data = train)"
      ],
      "execution_count": 76,
      "outputs": [
        {
          "output_type": "execute_result",
          "data": {
            "text/plain": [
              "<matplotlib.axes._subplots.AxesSubplot at 0x7fc635d35950>"
            ]
          },
          "metadata": {
            "tags": []
          },
          "execution_count": 76
        },
        {
          "output_type": "display_data",
          "data": {
            "image/png": "[encoded data removed]",
            "text/plain": [
              "<Figure size 432x288 with 1 Axes>"
            ]
          },
          "metadata": {
            "tags": []
          }
        }
      ]
    },
    {
      "cell_type": "code",
      "metadata": {
        "id": "ZltFVnzcQYKn",
        "outputId": "bf75cdbd-fbca-4a11-d00a-e49c0a31a2eb",
        "colab": {
          "base_uri": "https://localhost:8080/",
          "height": 296
        }
      },
      "source": [
        "#This shows the average age of survivors \n",
        "sns.boxplot(x = 'Survived', y = 'Age', palette=\"Blues\", data=train)"
      ],
      "execution_count": 78,
      "outputs": [
        {
          "output_type": "execute_result",
          "data": {
            "text/plain": [
              "<matplotlib.axes._subplots.AxesSubplot at 0x7fc635c8f5d0>"
            ]
          },
          "metadata": {
            "tags": []
          },
          "execution_count": 78
        },
        {
          "output_type": "display_data",
          "data": {
            "image/png": "[encoded data removed]",
            "text/plain": [
              "<Figure size 432x288 with 1 Axes>"
            ]
          },
          "metadata": {
            "tags": []
          }
        }
      ]
    },
    {
      "cell_type": "code",
      "metadata": {
        "id": "729HYm0ACMtp"
      },
      "source": [
        "#This creates a function that uses previous data found in graphs and takes that and assigns people with missing ages the average age of their given class. \n",
        "def AvgAge_train(cols):\n",
        "  Age = cols[0]\n",
        "  Pclass = cols[1]\n",
        "  if pd.isnull(Age): \n",
        "    if Pclass == 1:\n",
        "      return 38\n",
        "    elif Pclass == 2:\n",
        "        return 29\n",
        "    else:\n",
        "          return 25\n",
        "  else:\n",
        "        return Age"
      ],
      "execution_count": null,
      "outputs": []
    },
    {
      "cell_type": "code",
      "metadata": {
        "id": "AALJay452AVa"
      },
      "source": [
        "#This does the same as above however uses the test data to be more accurate for this fucntions purpose  \n",
        "def AvgAge_test(cols):\n",
        "  Age = cols[0]\n",
        "  Pclass = cols[1]\n",
        "  if pd.isnull(Age): \n",
        "    if Pclass == 1:\n",
        "      return 39\n",
        "    elif Pclass == 2:\n",
        "        return 27\n",
        "    else:\n",
        "          return 22\n",
        "  else:\n",
        "        return Age"
      ],
      "execution_count": null,
      "outputs": []
    },
    {
      "cell_type": "code",
      "metadata": {
        "id": "Ph8Re6zGEHRw"
      },
      "source": [
        "#This is setting the age feature to be equivalent to the function results of the function AvgAge_train\n",
        "train['Age'] = train[['Age', 'Pclass']].apply(AvgAge_train, axis = 1)"
      ],
      "execution_count": null,
      "outputs": []
    },
    {
      "cell_type": "code",
      "metadata": {
        "id": "x9Vodp3J3cp5"
      },
      "source": [
        "#This creates new features from embarked and sex which allow them to be broken down into individual ports and genders as to make the data of a usable type for the model \n",
        "sex_train = pd.get_dummies(train['Sex'], sparse = False)\n",
        "embarked_train = pd.get_dummies(train['Embarked'], sparse = False)"
      ],
      "execution_count": null,
      "outputs": []
    },
    {
      "cell_type": "code",
      "metadata": {
        "id": "Za--MCMOxCrr"
      },
      "source": [
        "#This is adding the above created features to the train data set\n",
        "train = pd.concat([train, sex_train, embarked_train], axis = 1)"
      ],
      "execution_count": null,
      "outputs": []
    },
    {
      "cell_type": "code",
      "metadata": {
        "id": "tLbKtrEN0cFq"
      },
      "source": [
        "#This is setting the age feature to be equivalent to the function results of the function AvgAge_test\n",
        "test['Age'] = test[['Age', 'Pclass']].apply(AvgAge_test, axis = 1)"
      ],
      "execution_count": null,
      "outputs": []
    },
    {
      "cell_type": "code",
      "metadata": {
        "id": "YdLiSbA6wcmb"
      },
      "source": [
        "#This fills in the very few missing values from test and trains features embarked and fare and simply replaces it with the median value as there is literally only 1 or 2 of these values missin\n",
        "test['Fare'].fillna(test['Fare'].median(), inplace = True)\n",
        "train['Embarked'].fillna(train['Fare'].median(), inplace = True)"
      ],
      "execution_count": null,
      "outputs": []
    },
    {
      "cell_type": "code",
      "metadata": {
        "id": "75F96NhE4e0X"
      },
      "source": [
        "#This is again generating more features but this time for test and then dropping the original columns out. \n",
        "sex_test = pd.get_dummies(test['Sex'], sparse = False)\n",
        "test.drop('Sex', axis = 1, inplace = True)"
      ],
      "execution_count": null,
      "outputs": []
    },
    {
      "cell_type": "code",
      "metadata": {
        "id": "I6LaEDQoxXNe"
      },
      "source": [
        "#This is again generating more features but this time for test and then dropping the original columns out. \n",
        "embarked_test = pd.get_dummies(test['Embarked'], sparse = False)\n",
        "test.drop('Embarked', axis = 1, inplace = True)"
      ],
      "execution_count": null,
      "outputs": []
    },
    {
      "cell_type": "code",
      "metadata": {
        "id": "Tvfw_X0PSfwa"
      },
      "source": [
        "#This is adding the above created features to the test data set\n",
        "test = pd.concat([test, sex_test, embarked_test], axis = 1)"
      ],
      "execution_count": null,
      "outputs": []
    },
    {
      "cell_type": "code",
      "metadata": {
        "id": "NjU21CSJpbsK"
      },
      "source": [
        "#Removing the columns from the data set \n",
        "train.drop('Cabin', axis = 1, inplace = True)\n",
        "train.drop('Name', axis = 1, inplace = True)\n",
        "train.drop('Ticket', axis = 1, inplace = True)\n",
        "train.drop('Embarked', axis = 1, inplace = True)\n",
        "train.drop('Sex', axis = 1, inplace = True)"
      ],
      "execution_count": null,
      "outputs": []
    },
    {
      "cell_type": "code",
      "metadata": {
        "id": "TEvjlcCk-2Gg"
      },
      "source": [
        "#Removing the columns from the data set \n",
        "test.drop('Cabin', axis = 1, inplace = True)\n",
        "test.drop('Name', axis = 1, inplace = True)\n",
        "test.drop('Ticket', axis = 1, inplace = True)"
      ],
      "execution_count": null,
      "outputs": []
    },
    {
      "cell_type": "code",
      "metadata": {
        "id": "MqbO4lAPTXAG"
      },
      "source": [
        "#Checking to see if the features are now the same and that\n",
        "nulldata(train)\n",
        "nulldata(test)"
      ],
      "execution_count": null,
      "outputs": []
    },
    {
      "cell_type": "code",
      "metadata": {
        "id": "pMBkk1R19TUD"
      },
      "source": [
        "#This is setting up variables for the machine learning part\n",
        "X_train = train.drop('Survived', axis = 1)\n",
        "y_train = train['Survived']\n",
        "X_test = test"
      ],
      "execution_count": null,
      "outputs": []
    },
    {
      "cell_type": "code",
      "metadata": {
        "id": "2UdFA3IWkatZ"
      },
      "source": [
        "#This is calling the model from sklearn and running our data through it and calculates the accruacy (the accuracy percentage as no hyper parameter tuning takes place so it's overcompensating)\n",
        "rForest = RandomForestClassifier()\n",
        "rForest.fit(X_train, y_train)\n",
        "rForestY_Predict = rForest.predict(X_test)\n",
        "rForestAcc = rForest.score(X_train, y_train)\n",
        "print('Accuracy with the Random Forest model is: ', round(rForestAcc, 2))"
      ],
      "execution_count": null,
      "outputs": []
    },
    {
      "cell_type": "code",
      "metadata": {
        "id": "T8cxXIz_AVQQ"
      },
      "source": [
        "#This is sets the values gained from the machine learning to be stored in the gender submission csv file to then be downloaded \n",
        "gender_submission = pd.DataFrame({'PassengerId':test['PassengerId'],'Survived': rForestY_Predict})\n",
        "gender_submission.to_csv('Essex-Group-2/gender_submission.csv', index = False)"
      ],
      "execution_count": null,
      "outputs": []
    }
  ]
}